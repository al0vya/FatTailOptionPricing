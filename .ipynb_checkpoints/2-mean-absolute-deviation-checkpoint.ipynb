{
 "cells": [
  {
   "cell_type": "markdown",
   "id": "5078b088",
   "metadata": {},
   "source": [
    "# Mean absolute deviation (MAD)\n",
    "\n",
    "## Why use MAD: efficiency\n",
    "\n",
    "The mean absolute deviation MAD is a more intuitive measure of deviation than the standard deviation STD as follows:\n",
    "\n",
    "$\\text{MAD} = \\frac{1}{n} \\sum_{i=1}^{n} \\lvert x_i - \\overline{x} \\rvert$.\n",
    "\n",
    "MAD is more \"efficient\" than STD. Efficient here means that MAD varies less than STD. For example, say we take N samples and compute the MAD and STD. We can take N samples M times and compute the MAD and STD each time. We would end up with an array of MADs and STDs of length M.\n",
    "\n",
    "<pre>\n",
    "1 : (1, 2, 3, ... N) -> compute -> (MAD) (STD)\n",
    "2 : (1, 2, 3, ... N) -> compute -> (MAD) (STD)  \n",
    ". .          .             .         .     .\n",
    ". .          .             .         .     .\n",
    ". .          .             .         .     .\n",
    "M : (1, 2, 3, ... N) -> compute -> (MAD) (STD)\n",
    "</pre>\n",
    "\n",
    "Then we can calculate the variance of MAD and STD. The lower the variance the better, as a lower variance implies the computed MAD or STD varies less across the M sample sets.\n",
    "\n",
    "Consider taking a ratio between the variances of the STDs vs the MADs:\n",
    "\n",
    "$\\text{efficiency} = \\frac{\\text{variance}_{STD}}{\\text{variance}_{MAD}}$,\n",
    "\n",
    "where $\\text{efficiency} > 1$ implies MAD is more efficient.\n",
    "\n",
    "The efficiency is computed using\n",
    "\n",
    "$\\text{efficiency} = \\frac{\\text{variance}_{STD}}{\\text{mean}_{STD}} / \\frac{\\text{variance}_{MAD}}{\\text{mean}_{MAD}}$,\n",
    "\n",
    "where the means are used to normalise the variances.\n"
   ]
  },
  {
   "cell_type": "code",
   "execution_count": 3,
   "id": "8c309ab4",
   "metadata": {},
   "outputs": [],
   "source": [
    "import matplotlib.pyplot as plt\n",
    "import matplotlib.pylab  as pylab  \n",
    "\n",
    "import numpy as np\n",
    "import scipy.stats\n",
    "\n",
    "from mpl_toolkits.mplot3d import Axes3D\n",
    "\n",
    "params = {\n",
    "    \"legend.fontsize\" : \"xx-large\",\n",
    "    \"axes.labelsize\"  : \"xx-large\",\n",
    "    \"axes.titlesize\"  : \"xx-large\",\n",
    "    \"xtick.labelsize\" : \"xx-large\",\n",
    "    \"ytick.labelsize\" : \"xx-large\"\n",
    "}\n",
    "\n",
    "pylab.rcParams.update(params)"
   ]
  },
  {
   "cell_type": "code",
   "execution_count": 14,
   "id": "b1fad173",
   "metadata": {},
   "outputs": [],
   "source": [
    "def mad(data):\n",
    "    mean = np.mean(data)\n",
    "    \n",
    "    absolute_deviations = np.abs(data - mean)\n",
    "    \n",
    "    return np.mean(absolute_deviations)\n",
    "\n",
    "def get_efficiency(data):\n",
    "    \n",
    "    return np.var(data) / (np.mean(data) ** 2)\n",
    "\n",
    "def two_norms(\n",
    "        num_samples,\n",
    "        a,           # parameter controlling STD of high STD normal distribution\n",
    "        p            # sampling frequency from high STD normal distribution\n",
    "    ):\n",
    "        \"\"\"\n",
    "        This function samples from two different normal distributions, one with STD = 1 and\n",
    "        another with STD = sqrt(1 + a).\n",
    "        \"\"\"\n",
    "        \n",
    "        mean = 0\n",
    "        \n",
    "        sigma_norm  = 1\n",
    "        sigma_spike = 1 + a\n",
    "        \n",
    "        X_norm  = scipy.stats.norm.rvs(loc=mean, scale=sigma_norm,  size=num_samples)\n",
    "        X_spike = scipy.stats.norm.rvs(loc=mean, scale=sigma_spike, size=num_samples)\n",
    "        \n",
    "        i = scipy.stats.binom.rvs(n=1, p=(1-p), size=num_samples)\n",
    "        \n",
    "        X = i * X_norm + (1 - i) * X_spike\n",
    "        \n",
    "        return X\n",
    "    \n",
    "def get_efficiency_sample(\n",
    "        a=0, # assume purely Gaussian case by default\n",
    "        p=0  # never sample from high STD distribution by default\n",
    "    ):\n",
    "    \"\"\"\n",
    "    When using our samples, the MAD and STD can respectively differ depending on the samples.\n",
    "    \n",
    "    That is, the MAD/STD of our samples will differ each time we compute them.\n",
    "    \n",
    "    Therefore, we need to compute an array of MADs/STDs using several sets of samples.\n",
    "    \"\"\"\n",
    "    \n",
    "    num_samples         = 1_000 # number of samples per set\n",
    "    num_sets_of_samples = 10_000  # number of sets of samples\n",
    "    \n",
    "    sets_of_samples = [two_norms(num_samples, a, p) for sample_set in range(num_sets_of_samples)]\n",
    "    \n",
    "    stds = [scipy.stats.tstd(sample_set) for sample_set in sets_of_samples]\n",
    "    mads = [mad(sample_set)              for sample_set in sets_of_samples]\n",
    "    \n",
    "    std_efficiency = get_efficiency(stds)\n",
    "    mad_efficiency = get_efficiency(mads)\n",
    "    \n",
    "    return std_efficiency / mad_efficiency"
   ]
  },
  {
   "cell_type": "markdown",
   "id": "1edf3776",
   "metadata": {},
   "source": [
    "## Efficiency for a normal distribution\n",
    "\n",
    "The efficiency has been analytically found for the Gaussian case (normal distribution) to be 0.875. This efficiency should be replicated in the function `get_efficiency_sample` using the default parameters."
   ]
  },
  {
   "cell_type": "code",
   "execution_count": 18,
   "id": "b324b520",
   "metadata": {},
   "outputs": [
    {
     "name": "stdout",
     "output_type": "stream",
     "text": [
      "Analytical relative efficiency STD / MAD: 0.875\n",
      "Sampled relative efficiency STD / MAD: 0.877\n"
     ]
    }
   ],
   "source": [
    "print(\n",
    "    \"Analytical relative efficiency STD / MAD: 0.875\\n\" +\n",
    "    \"Sampled relative efficiency STD / MAD: %0.5s\" % get_efficiency_sample()\n",
    ")"
   ]
  },
  {
   "cell_type": "markdown",
   "id": "4e582dfa",
   "metadata": {},
   "source": [
    "## Efficiency for progressively fatter tail distributions\n",
    "\n",
    "Next, we would like to see how the efficiency changes when we sample from fatter and fatter-tailed distributions. The function `two_norms` samples from such a fat-tailed distribution much like the one in the notebook `1-mildly-fat-tails`. In summary, it takes as a parameter $a$ where the larger the value the fatter the tails. For fat tails, MAD is considerably more efficient."
   ]
  },
  {
   "cell_type": "code",
   "execution_count": 11,
   "id": "796a5132",
   "metadata": {},
   "outputs": [
    {
     "data": {
      "text/plain": [
       "(0.0, 20.0)"
      ]
     },
     "execution_count": 11,
     "metadata": {},
     "output_type": "execute_result"
    },
    {
     "data": {
      "image/png": "[encoded data removed]",
      "text/plain": [
       "<Figure size 432x288 with 1 Axes>"
      ]
     },
     "metadata": {
      "needs_background": "light"
     },
     "output_type": "display_data"
    }
   ],
   "source": [
    "\"\"\"\n",
    "Efficiency as we occasionally sample from a higher STD normal distributon.\n",
    "\"\"\"\n",
    "a = [ _ for _ in range(0,21) ]\n",
    "\n",
    "p = 0.01\n",
    "\n",
    "efficiencies = [get_efficiency_sample(a_, p) for a_ in a]\n",
    "\n",
    "plt.plot(a, efficiencies)\n",
    "plt.xlabel('a')\n",
    "plt.ylabel(\"Efficiency STD/MAD\")\n",
    "plt.xlim(0, 20)"
   ]
  }
 ],
 "metadata": {
  "kernelspec": {
   "display_name": "Python 3 (ipykernel)",
   "language": "python",
   "name": "python3"
  },
  "language_info": {
   "codemirror_mode": {
    "name": "ipython",
    "version": 3
   },
   "file_extension": ".py",
   "mimetype": "text/x-python",
   "name": "python",
   "nbconvert_exporter": "python",
   "pygments_lexer": "ipython3",
   "version": "3.9.7"
  }
 },
 "nbformat": 4,
 "nbformat_minor": 5
}
